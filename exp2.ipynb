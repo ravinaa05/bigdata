{
 "cells": [
  {
   "cell_type": "code",
   "execution_count": 21,
   "id": "b651f488-cc61-4538-b783-079e2c5fa06e",
   "metadata": {},
   "outputs": [],
   "source": [
    "import pandas as pd\n",
    "import numpy as np\n",
    "from sklearn.model_selection import train_test_split\n",
    "from sklearn.metrics import accuracy_score, confusion_matrix\n"
   ]
  },
  {
   "cell_type": "code",
   "execution_count": 22,
   "id": "ffe5ebe0-efed-431d-a5d0-df3500059ca3",
   "metadata": {},
   "outputs": [],
   "source": [
    "spambase_path = \"spambase.csv\"  # Correct path\n",
    "spambase_cols = [f\"feature_{i}\" for i in range(57)] + [\"label\"]\n",
    "\n",
    "spambase_df = pd.read_csv(spambase_path, header=None)\n",
    "spambase_df.columns = spambase_cols  # Assign column names\n"
   ]
  },
  {
   "cell_type": "code",
   "execution_count": 10,
   "id": "f6c5e5b6-7124-4cf9-b4d7-ad9e99031b85",
   "metadata": {},
   "outputs": [
    {
     "name": "stdout",
     "output_type": "stream",
     "text": [
      "[==================================================] 100.0% 128.1/128.1MB downloaded\n"
     ]
    }
   ],
   "source": [
    "import gensim.downloader as api\n",
    "\n",
    "glove = api.load(\"glove-wiki-gigaword-100\")  # This loads a 100-dimensional GloVe model\n"
   ]
  },
  {
   "cell_type": "code",
   "execution_count": 12,
   "id": "a9e5b77a-3723-49e0-a2e6-7f113a96b0e0",
   "metadata": {},
   "outputs": [
    {
     "name": "stdout",
     "output_type": "stream",
     "text": [
      "Requirement already satisfied: pybloom-live in c:\\users\\ravin\\anaconda3\\lib\\site-packages (4.0.0)Note: you may need to restart the kernel to use updated packages.\n",
      "\n",
      "Requirement already satisfied: bitarray>=0.3.4 in c:\\users\\ravin\\anaconda3\\lib\\site-packages (from pybloom-live) (3.0.0)\n",
      "Requirement already satisfied: xxhash>=3.0.0 in c:\\users\\ravin\\anaconda3\\lib\\site-packages (from pybloom-live) (3.5.0)\n"
     ]
    }
   ],
   "source": [
    "pip install pybloom-live"
   ]
  },
  {
   "cell_type": "code",
   "execution_count": 18,
   "id": "50a2f6ac-e28b-4666-92e1-41fb95478780",
   "metadata": {},
   "outputs": [
    {
     "name": "stdout",
     "output_type": "stream",
     "text": [
      "Index(['feature_0', 'feature_1', 'feature_2', 'feature_3', 'feature_4',\n",
      "       'feature_5', 'feature_6', 'feature_7', 'feature_8', 'feature_9',\n",
      "       'feature_10', 'feature_11', 'feature_12', 'feature_13', 'feature_14',\n",
      "       'feature_15', 'feature_16', 'feature_17', 'feature_18', 'feature_19',\n",
      "       'feature_20', 'feature_21', 'feature_22', 'feature_23', 'feature_24',\n",
      "       'feature_25', 'feature_26', 'feature_27', 'feature_28', 'feature_29',\n",
      "       'feature_30', 'feature_31', 'feature_32', 'feature_33', 'feature_34',\n",
      "       'feature_35', 'feature_36', 'feature_37', 'feature_38', 'feature_39',\n",
      "       'feature_40', 'feature_41', 'feature_42', 'feature_43', 'feature_44',\n",
      "       'feature_45', 'feature_46', 'feature_47', 'feature_48', 'feature_49',\n",
      "       'feature_50', 'feature_51', 'feature_52', 'feature_53', 'feature_54',\n",
      "       'feature_55', 'feature_56', 'label'],\n",
      "      dtype='object')\n"
     ]
    }
   ],
   "source": [
    "from pybloom_live import BloomFilter\n",
    "\n",
    "bloom = BloomFilter(capacity=1000, error_rate=0.1)\n",
    "\n",
    "for feature in spambase_df[\"feature_0\"]:  \n",
    "    bloom.add(str(feature))  \n",
    "print(spambase_df.columns)"
   ]
  },
  {
   "cell_type": "code",
   "execution_count": 19,
   "id": "6b36a05f-9267-4ee0-bd34-a599a8b596e8",
   "metadata": {},
   "outputs": [
    {
     "name": "stdout",
     "output_type": "stream",
     "text": [
      "True Positive Rate: 0.00\n",
      "False Positive Rate: 1.00\n"
     ]
    }
   ],
   "source": [
    "# Initialize counters for true positives and false positives\n",
    "true_positive = 0\n",
    "false_positive = 0\n",
    "false_negative = 0\n",
    "true_negative = 0\n",
    "\n",
    "\n",
    "for _, row in spambase_df.iterrows():\n",
    "    feature = str(row[\"feature_0\"])  \n",
    "    \n",
    "    if bloom.__contains__(feature):\n",
    "      \n",
    "        if row[\"label\"] == 1:\n",
    "            true_positive += 1  \n",
    "        else:\n",
    "            false_positive += 1  \n",
    "    else:\n",
    "      \n",
    "        if row[\"label\"] == 0:\n",
    "            true_negative += 1 \n",
    "        else:\n",
    "            false_negative += 1  # Spam email missed by the Bloom filter\n",
    "\n",
    "TPR = true_positive / (true_positive + false_negative) if (true_positive + false_negative) != 0 else 0\n",
    "FPR = false_positive / (false_positive + true_negative) if (false_positive + true_negative) != 0 else 0\n",
    "\n",
    "print(f\"True Positive Rate: {TPR:.2f}\")\n",
    "print(f\"False Positive Rate: {FPR:.2f}\")\n"
   ]
  },
  {
   "cell_type": "code",
   "execution_count": null,
   "id": "488b3121-ea3c-4fcd-9fee-517eb8f106fd",
   "metadata": {},
   "outputs": [],
   "source": []
  }
 ],
 "metadata": {
  "kernelspec": {
   "display_name": "Python 3 (ipykernel)",
   "language": "python",
   "name": "python3"
  },
  "language_info": {
   "codemirror_mode": {
    "name": "ipython",
    "version": 3
   },
   "file_extension": ".py",
   "mimetype": "text/x-python",
   "name": "python",
   "nbconvert_exporter": "python",
   "pygments_lexer": "ipython3",
   "version": "3.12.7"
  }
 },
 "nbformat": 4,
 "nbformat_minor": 5
}
